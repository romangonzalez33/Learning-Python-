{
  "nbformat": 4,
  "nbformat_minor": 0,
  "metadata": {
    "colab": {
      "provenance": [],
      "authorship_tag": "ABX9TyMANnoZJEKTSmzz0TykoLTu",
      "include_colab_link": true
    },
    "kernelspec": {
      "name": "python3",
      "display_name": "Python 3"
    },
    "language_info": {
      "name": "python"
    }
  },
  "cells": [
    {
      "cell_type": "markdown",
      "metadata": {
        "id": "view-in-github",
        "colab_type": "text"
      },
      "source": [
        "<a href=\"https://colab.research.google.com/github/romangonzalez33/Learning-Python-/blob/main/piedra_papel_o_tijeras.ipynb\" target=\"_parent\"><img src=\"https://colab.research.google.com/assets/colab-badge.svg\" alt=\"Open In Colab\"/></a>"
      ]
    },
    {
      "cell_type": "code",
      "execution_count": null,
      "metadata": {
        "colab": {
          "base_uri": "https://localhost:8080/"
        },
        "outputId": "d702926c-b420-44dc-d770-2dd6b13e98c5",
        "id": "5O1zVc6YLWUA"
      },
      "outputs": [
        {
          "output_type": "stream",
          "name": "stdout",
          "text": [
            "game\n",
            "Escribe Piedra/Papel/Tijeras o Q para salir: papel\n",
            "El ordenador eligió papel.\n",
            "¡Has perdido!\n",
            "Escribe Piedra/Papel/Tijeras o Q para salir: papel\n",
            "El ordenador eligió papel.\n",
            "¡Has perdido!\n",
            "Escribe Piedra/Papel/Tijeras o Q para salir: papel\n",
            "El ordenador eligió piedra.\n",
            "¡Has ganado!\n",
            "Llevas 1 victoria(s).\n",
            "Escribe Piedra/Papel/Tijeras o Q para salir: papel\n",
            "El ordenador eligió papel.\n",
            "¡Has perdido!\n",
            "Escribe Piedra/Papel/Tijeras o Q para salir: papel\n",
            "Has ganado 1 veces.\n",
            "El ordenador ha ganado 3 veces.\n",
            "¡Adiós!\n"
          ]
        }
      ],
      "source": [
        "# Este programa es un juego simple de Piedra, Papel o Tijeras contra el ordenador.\n",
        "\n",
        "print(\"game\") # Imprime el título del juego al iniciar.\n",
        "\n",
        "# Se importa el módulo 'random'.\n",
        "# Este módulo proporciona funciones para generar números aleatorios,\n",
        "# que utilizaremos para la elección del ordenador.\n",
        "\n",
        "import random # Redundant import, can be removed\n",
        "\n",
        "# Se define una lista llamada 'options' que contiene las posibles jugadas.\n",
        "options = [\"piedra\", \"papel\", \"tijeras\"]\n",
        "\n",
        "# Se inicializan las variables para llevar el conteo de victorias del usuario,\n",
        "# victorias del ordenador y empates.\n",
        "user_wins = 0\n",
        "computer_wins = 0\n",
        "ties = 0 # Initialize a variable for ties\n",
        "\n",
        "# Se inicia un bucle infinito que continuará hasta que se cumpla una condición de salida.\n",
        "while True:\n",
        "    # Se pide al usuario que escriba su jugada o 'Q' para salir.\n",
        "    # .lower() convierte la entrada del usuario a minúsculas para facilitar la comparación.\n",
        "    user_input = input(\"Escribe Piedra/Papel/Tijeras o Q para salir: \").lower()\n",
        "\n",
        "    # Se verifica si el usuario quiere salir ('q') o si alguien ha ganado 3 veces.\n",
        "    # Si alguna de estas condiciones es verdadera, se sale del bucle (termina el juego).\n",
        "    if user_input == \"q\" or user_wins == 3 or computer_wins == 3:\n",
        "        break\n",
        "\n",
        "    # Se verifica si la entrada del usuario es una opción válida (piedra, papel o tijeras).\n",
        "    # Si no es válida, se salta el resto del código en esta iteración y se vuelve al inicio del bucle\n",
        "    # para pedir una nueva entrada.\n",
        "    if user_input not in options:\n",
        "        continue\n",
        "\n",
        "    # Se genera un número entero aleatorio entre 0 y 2 (inclusive).\n",
        "    # Este número se usará como índice para seleccionar la jugada del ordenador de la lista 'options'.\n",
        "    random_number = random.randint(0, 2)\n",
        "\n",
        "    # Se selecciona la jugada del ordenador utilizando el número aleatorio como índice.\n",
        "    computer_pick = options[random_number]\n",
        "\n",
        "    # Se imprime la elección del ordenador. Se concatena un punto al final por estética.\n",
        "    print(\"El ordenador eligió\", computer_pick + \".\")\n",
        "\n",
        "    # Se inicia una serie de condiciones para determinar el resultado de la ronda.\n",
        "\n",
        "    # Si la entrada del usuario es igual a la elección del ordenador, es un empate.\n",
        "    if user_input == computer_pick:\n",
        "        print(\"¡Es un empate!\") # Imprime el mensaje de empate.\n",
        "        ties += 1 # Incrementa el contador de empates.\n",
        "        print(\"Llevan\", ties, \"empate(s).\") # Muestra la cantidad de empates.\n",
        "\n",
        "    # Si el usuario elige piedra y el ordenador tijeras, el usuario gana.\n",
        "    elif user_input == \"piedra\" and computer_pick == \"tijeras\":\n",
        "        print(\"¡Has ganado!\") # Imprime el mensaje de victoria.\n",
        "        user_wins += 1 # Incrementa el contador de victorias del usuario.\n",
        "        print(\"Llevas\", user_wins, \"victoria(s).\") # Muestra la cantidad de victorias del usuario.\n",
        "\n",
        "    # Si el usuario elige papel y el ordenador piedra, el usuario gana.\n",
        "    elif user_input == \"papel\" and computer_pick == \"piedra\":\n",
        "        print(\"¡Has ganado!\") # Imprime el mensaje de victoria.\n",
        "        user_wins += 1 # Incrementa el contador de victorias del usuario.\n",
        "        print(\"Llevas\", user_wins, \"victoria(s).\") # Muestra la cantidad de victorias del usuario.\n",
        "\n",
        "    # Si el usuario elige tijeras y el ordenador papel, el usuario gana.\n",
        "    elif user_input == \"tijeras\" and computer_pick == \"papel\":\n",
        "        print(\"¡Has ganado!\") # Imprime el mensaje de victoria.\n",
        "        user_wins += 1 # Incrementa el contador de victorias del usuario.\n",
        "        print(\"Llevas\", user_wins, \"victoria(s).\") # Muestra la cantidad de victorias del usuario.\n",
        "\n",
        "    # Si ninguna de las condiciones anteriores se cumple (no es empate ni victoria del usuario),\n",
        "    # significa que el usuario perdió.\n",
        "    else:\n",
        "        print(\"¡Has perdido!\") # Imprime el mensaje de derrota.\n",
        "        computer_wins += 1 # Incrementa el contador de victorias del ordenador.\n",
        "\n",
        "# Después de salir del bucle (el juego ha terminado), se imprime el resumen final.\n",
        "print(\"Has ganado\", user_wins, \"veces.\") # Muestra el total de victorias del usuario.\n",
        "print(\"El ordenador ha ganado\", computer_wins, \"veces.\") # Muestra el total de victorias del ordenador.\n",
        "print(\"Han empatado\", ties, \"veces.\") # Muestra el total de empates.\n",
        "print(\"¡Adiós!\") # Mensaje de despedida."
      ]
    },
    {
      "cell_type": "markdown",
      "source": [],
      "metadata": {
        "id": "JgShp-6YRgHn"
      }
    },
    {
      "cell_type": "code",
      "source": [],
      "metadata": {
        "id": "2YadQbHbRggb"
      },
      "execution_count": null,
      "outputs": []
    },
    {
      "cell_type": "markdown",
      "metadata": {
        "id": "d3d8487b"
      },
      "source": [
        "# Task\n",
        "Implement a 3-second time limit for the user's input in the rock-paper-scissors game."
      ]
    },
    {
      "cell_type": "markdown",
      "metadata": {
        "id": "d72acf8d"
      },
      "source": [
        "## Investigar métodos de entrada con tiempo de espera\n",
        "\n",
        "### Subtask:\n",
        "Investigar métodos de entrada con tiempo de espera: Buscar en las bibliotecas estándar de Python o en módulos de terceros cómo implementar una función de `input` que tenga un tiempo límite.\n"
      ]
    },
    {
      "cell_type": "markdown",
      "metadata": {
        "id": "3dafa273"
      },
      "source": [
        "**Reasoning**:\n",
        "Search for ways to implement a timed input function in Python using standard libraries or third-party modules to address the subtask of investigating timed input methods.\n",
        "\n"
      ]
    }
  ]
}