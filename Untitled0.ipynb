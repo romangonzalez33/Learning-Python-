{
  "nbformat": 4,
  "nbformat_minor": 0,
  "metadata": {
    "colab": {
      "provenance": [],
      "authorship_tag": "ABX9TyMqx3FviO2b/pAk7cDOG0xm",
      "include_colab_link": true
    },
    "kernelspec": {
      "name": "python3",
      "display_name": "Python 3"
    },
    "language_info": {
      "name": "python"
    }
  },
  "cells": [
    {
      "cell_type": "markdown",
      "metadata": {
        "id": "view-in-github",
        "colab_type": "text"
      },
      "source": [
        "<a href=\"https://colab.research.google.com/github/romangonzalez33/Learning-Python-/blob/main/Untitled0.ipynb\" target=\"_parent\"><img src=\"https://colab.research.google.com/assets/colab-badge.svg\" alt=\"Open In Colab\"/></a>"
      ]
    },
    {
      "cell_type": "code",
      "execution_count": 21,
      "metadata": {
        "colab": {
          "base_uri": "https://localhost:8080/"
        },
        "id": "Ilf6b6o6ctU7",
        "outputId": "92d8d2f5-2fae-4177-a3f0-66ea7bc22091"
      },
      "outputs": [
        {
          "output_type": "stream",
          "name": "stdout",
          "text": [
            "guess number\n",
            "Enter your guess: 1\n",
            "Too low. Try again.\n",
            "Enter your guess: 1\n",
            "Too low. Try again.\n",
            "Enter your guess: 1\n",
            "Too low. Try again.\n",
            "Sorry, you ran out of attempts. The number was: 10\n"
          ]
        }
      ],
      "source": [
        "import random # Import the random module to generate random numbers\n",
        "\n",
        "print(\"guess number\") # Print a message to the user\n",
        "number = random.randint(1, 10) # Generate a random integer between 1 and 10 (inclusive) and store it in the 'number' variable\n",
        "attempts = 0 # Initialize a variable to count the number of attempts\n",
        "max_attempts = 3 # Set the maximum number of attempts\n",
        "\n",
        "while attempts < max_attempts: # Start a loop that continues as long as the number of attempts is less than th1e maximum allowed\n",
        "    guess = input(\"Enter your guess: \") # Prompt the user to enter their guess and store it in the 'guess' variable\n",
        "    if guess.isdigit(): # Check if the user's input consists only of digits\n",
        "        guess = int(guess) # Convert the user's input to an integer\n",
        "        attempts += 1 # Increment the attempts counter\n",
        "        if guess == number: # Check if the guessed number is equal to the random number\n",
        "            print(\"Congratulations! You guessed the number in\", attempts, \"attempts.\") # If the guess is correct, print a congratulatory message including the number of attempts\n",
        "            break # Exit the loop\n",
        "        elif guess < number: # If the guess is not correct, check if it's lower than the random number\n",
        "            print(\"Too low. Try again.\") # If the guess is too low, print a message\n",
        "        else: # If the guess is not correct and not too low, it must be too high\n",
        "            print(\"Too high. Try again.\") # If the guess is too high, print a message\n",
        "    else: # If the user's input is not a digit\n",
        "        print(\"Invalid input. Please enter a number.\") # Print an error message\n",
        "\n",
        "if guess != number: # After the loop ends, check if the number was not guessed\n",
        "    print(\"Sorry, you ran out of attempts. The number was:\", number) # If the number was not guessed within the maximum attempts, print a message revealing the number"
      ]
    }
  ]
}